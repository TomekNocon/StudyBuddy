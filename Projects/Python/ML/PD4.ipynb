{
 "cells": [
  {
   "cell_type": "code",
   "execution_count": 376,
   "metadata": {},
   "outputs": [],
   "source": [
    "import pandas as pd\n",
    "import numpy as np\n",
    "import dalex as dx\n",
    "from sklearn.svm import SVC\n",
    "from sklearn.metrics import accuracy_score\n",
    "from sklearn.model_selection import train_test_split\n",
    "from sklearn.model_selection import RandomizedSearchCV\n",
    "from sklearn.model_selection import cross_val_score\n",
    "from sklearn.preprocessing import MinMaxScaler, Normalizer, StandardScaler"
   ]
  },
  {
   "cell_type": "code",
   "execution_count": 2,
   "metadata": {},
   "outputs": [],
   "source": [
    "apartaments = dx.datasets.load_apartments()"
   ]
  },
  {
   "cell_type": "code",
   "execution_count": 25,
   "metadata": {},
   "outputs": [
    {
     "data": {
      "text/plain": [
       "Index(['m2_price', 'construction_year', 'surface', 'floor', 'no_rooms',\n",
       "       'district'],\n",
       "      dtype='object')"
      ]
     },
     "execution_count": 25,
     "metadata": {},
     "output_type": "execute_result"
    }
   ],
   "source": [
    "apartaments.keys() # look what the columns are"
   ]
  },
  {
   "cell_type": "code",
   "execution_count": 79,
   "metadata": {},
   "outputs": [
    {
     "data": {
      "text/html": [
       "<div>\n",
       "<style scoped>\n",
       "    .dataframe tbody tr th:only-of-type {\n",
       "        vertical-align: middle;\n",
       "    }\n",
       "\n",
       "    .dataframe tbody tr th {\n",
       "        vertical-align: top;\n",
       "    }\n",
       "\n",
       "    .dataframe thead th {\n",
       "        text-align: right;\n",
       "    }\n",
       "</style>\n",
       "<table border=\"1\" class=\"dataframe\">\n",
       "  <thead>\n",
       "    <tr style=\"text-align: right;\">\n",
       "      <th></th>\n",
       "      <th>m2_price</th>\n",
       "      <th>construction_year</th>\n",
       "      <th>surface</th>\n",
       "      <th>floor</th>\n",
       "      <th>no_rooms</th>\n",
       "      <th>district</th>\n",
       "    </tr>\n",
       "  </thead>\n",
       "  <tbody>\n",
       "    <tr>\n",
       "      <th>1</th>\n",
       "      <td>5897</td>\n",
       "      <td>1953</td>\n",
       "      <td>25</td>\n",
       "      <td>3</td>\n",
       "      <td>1</td>\n",
       "      <td>Srodmiescie</td>\n",
       "    </tr>\n",
       "    <tr>\n",
       "      <th>2</th>\n",
       "      <td>1818</td>\n",
       "      <td>1992</td>\n",
       "      <td>143</td>\n",
       "      <td>9</td>\n",
       "      <td>5</td>\n",
       "      <td>Bielany</td>\n",
       "    </tr>\n",
       "    <tr>\n",
       "      <th>3</th>\n",
       "      <td>3643</td>\n",
       "      <td>1937</td>\n",
       "      <td>56</td>\n",
       "      <td>1</td>\n",
       "      <td>2</td>\n",
       "      <td>Praga</td>\n",
       "    </tr>\n",
       "    <tr>\n",
       "      <th>4</th>\n",
       "      <td>3517</td>\n",
       "      <td>1995</td>\n",
       "      <td>93</td>\n",
       "      <td>7</td>\n",
       "      <td>3</td>\n",
       "      <td>Ochota</td>\n",
       "    </tr>\n",
       "    <tr>\n",
       "      <th>5</th>\n",
       "      <td>3013</td>\n",
       "      <td>1992</td>\n",
       "      <td>144</td>\n",
       "      <td>6</td>\n",
       "      <td>5</td>\n",
       "      <td>Mokotow</td>\n",
       "    </tr>\n",
       "    <tr>\n",
       "      <th>...</th>\n",
       "      <td>...</td>\n",
       "      <td>...</td>\n",
       "      <td>...</td>\n",
       "      <td>...</td>\n",
       "      <td>...</td>\n",
       "      <td>...</td>\n",
       "    </tr>\n",
       "    <tr>\n",
       "      <th>996</th>\n",
       "      <td>6355</td>\n",
       "      <td>1921</td>\n",
       "      <td>44</td>\n",
       "      <td>2</td>\n",
       "      <td>2</td>\n",
       "      <td>Srodmiescie</td>\n",
       "    </tr>\n",
       "    <tr>\n",
       "      <th>997</th>\n",
       "      <td>3422</td>\n",
       "      <td>1921</td>\n",
       "      <td>48</td>\n",
       "      <td>10</td>\n",
       "      <td>2</td>\n",
       "      <td>Bemowo</td>\n",
       "    </tr>\n",
       "    <tr>\n",
       "      <th>998</th>\n",
       "      <td>3098</td>\n",
       "      <td>1980</td>\n",
       "      <td>85</td>\n",
       "      <td>3</td>\n",
       "      <td>3</td>\n",
       "      <td>Bemowo</td>\n",
       "    </tr>\n",
       "    <tr>\n",
       "      <th>999</th>\n",
       "      <td>4192</td>\n",
       "      <td>1942</td>\n",
       "      <td>36</td>\n",
       "      <td>7</td>\n",
       "      <td>1</td>\n",
       "      <td>Zoliborz</td>\n",
       "    </tr>\n",
       "    <tr>\n",
       "      <th>1000</th>\n",
       "      <td>3327</td>\n",
       "      <td>1992</td>\n",
       "      <td>112</td>\n",
       "      <td>6</td>\n",
       "      <td>5</td>\n",
       "      <td>Mokotow</td>\n",
       "    </tr>\n",
       "  </tbody>\n",
       "</table>\n",
       "<p>1000 rows × 6 columns</p>\n",
       "</div>"
      ],
      "text/plain": [
       "      m2_price  construction_year  surface  floor  no_rooms     district\n",
       "1         5897               1953       25      3         1  Srodmiescie\n",
       "2         1818               1992      143      9         5      Bielany\n",
       "3         3643               1937       56      1         2        Praga\n",
       "4         3517               1995       93      7         3       Ochota\n",
       "5         3013               1992      144      6         5      Mokotow\n",
       "...        ...                ...      ...    ...       ...          ...\n",
       "996       6355               1921       44      2         2  Srodmiescie\n",
       "997       3422               1921       48     10         2       Bemowo\n",
       "998       3098               1980       85      3         3       Bemowo\n",
       "999       4192               1942       36      7         1     Zoliborz\n",
       "1000      3327               1992      112      6         5      Mokotow\n",
       "\n",
       "[1000 rows x 6 columns]"
      ]
     },
     "execution_count": 79,
     "metadata": {},
     "output_type": "execute_result"
    }
   ],
   "source": [
    "apartaments # our dataset"
   ]
  },
  {
   "cell_type": "code",
   "execution_count": 30,
   "metadata": {},
   "outputs": [],
   "source": [
    "y = np.array(apartaments['district'])\n",
    "X = apartaments.drop(['district'], axis=1)"
   ]
  },
  {
   "cell_type": "code",
   "execution_count": 214,
   "metadata": {},
   "outputs": [],
   "source": [
    "'''\n",
    "the set is quite small so we will use cross_validation, the test will be 20% of the whole set\n",
    "'''\n",
    "X_train, X_test, y_train, y_test = train_test_split(X, y, test_size = 0.2, random_state=42)   "
   ]
  },
  {
   "cell_type": "code",
   "execution_count": 176,
   "metadata": {},
   "outputs": [],
   "source": [
    "model_a = SVC() # our model, without parameters"
   ]
  },
  {
   "cell_type": "code",
   "execution_count": 177,
   "metadata": {},
   "outputs": [
    {
     "data": {
      "text/plain": [
       "0.245"
      ]
     },
     "execution_count": 177,
     "metadata": {},
     "output_type": "execute_result"
    }
   ],
   "source": [
    "model_a.fit(X_train, y_train) \n",
    "y_hat = model_a.predict(X_test)\n",
    "accuracy_score(y_test, y_hat)"
   ]
  },
  {
   "cell_type": "markdown",
   "metadata": {},
   "source": [
    "Without any corrections, our model has 24% accuracy which is a rather poor result. We will now try to improve it"
   ]
  },
  {
   "cell_type": "code",
   "execution_count": 178,
   "metadata": {},
   "outputs": [
    {
     "data": {
      "text/plain": [
       "RandomizedSearchCV(cv=3, estimator=SVC(), n_iter=5,\n",
       "                   param_distributions={'C': [0.001, 0.01, 0.1, 1, 10, 20, 100,\n",
       "                                              1000],\n",
       "                                        'degree': [2, 3, 4, 5],\n",
       "                                        'gamma': ['auto', 'scale']})"
      ]
     },
     "execution_count": 178,
     "metadata": {},
     "output_type": "execute_result"
    }
   ],
   "source": [
    "# we choose parameters\n",
    "params = {\n",
    "    'degree': [2,3,4,5],  \n",
    "    'C': [0.001, 0.01, 0.1, 1, 10, 20, 100, 1000],\n",
    "    'gamma': ['auto', 'scale']\n",
    "}\n",
    "\n",
    "clf_rand = RandomizedSearchCV(model_a, params, cv=3, n_iter=5)\n",
    "\n",
    "clf_rand.fit(X_train, y_train)"
   ]
  },
  {
   "cell_type": "code",
   "execution_count": 179,
   "metadata": {},
   "outputs": [
    {
     "data": {
      "text/plain": [
       "Index(['mean_fit_time', 'std_fit_time', 'mean_score_time', 'std_score_time',\n",
       "       'param_gamma', 'param_degree', 'param_C', 'params', 'split0_test_score',\n",
       "       'split1_test_score', 'split2_test_score', 'mean_test_score',\n",
       "       'std_test_score', 'rank_test_score'],\n",
       "      dtype='object')"
      ]
     },
     "execution_count": 179,
     "metadata": {},
     "output_type": "execute_result"
    }
   ],
   "source": [
    "pd.DataFrame(clf_rand.cv_results_).keys() # look at what are the columns, and then choose the ones that interest me"
   ]
  },
  {
   "cell_type": "code",
   "execution_count": 180,
   "metadata": {},
   "outputs": [
    {
     "data": {
      "text/html": [
       "<div>\n",
       "<style scoped>\n",
       "    .dataframe tbody tr th:only-of-type {\n",
       "        vertical-align: middle;\n",
       "    }\n",
       "\n",
       "    .dataframe tbody tr th {\n",
       "        vertical-align: top;\n",
       "    }\n",
       "\n",
       "    .dataframe thead th {\n",
       "        text-align: right;\n",
       "    }\n",
       "</style>\n",
       "<table border=\"1\" class=\"dataframe\">\n",
       "  <thead>\n",
       "    <tr style=\"text-align: right;\">\n",
       "      <th></th>\n",
       "      <th>params</th>\n",
       "      <th>mean_test_score</th>\n",
       "    </tr>\n",
       "  </thead>\n",
       "  <tbody>\n",
       "    <tr>\n",
       "      <th>4</th>\n",
       "      <td>{'gamma': 'scale', 'degree': 5, 'C': 1000}</td>\n",
       "      <td>0.256216</td>\n",
       "    </tr>\n",
       "    <tr>\n",
       "      <th>0</th>\n",
       "      <td>{'gamma': 'scale', 'degree': 5, 'C': 100}</td>\n",
       "      <td>0.248721</td>\n",
       "    </tr>\n",
       "    <tr>\n",
       "      <th>3</th>\n",
       "      <td>{'gamma': 'scale', 'degree': 3, 'C': 100}</td>\n",
       "      <td>0.248721</td>\n",
       "    </tr>\n",
       "    <tr>\n",
       "      <th>2</th>\n",
       "      <td>{'gamma': 'scale', 'degree': 4, 'C': 1}</td>\n",
       "      <td>0.229994</td>\n",
       "    </tr>\n",
       "    <tr>\n",
       "      <th>1</th>\n",
       "      <td>{'gamma': 'scale', 'degree': 2, 'C': 10}</td>\n",
       "      <td>0.227474</td>\n",
       "    </tr>\n",
       "  </tbody>\n",
       "</table>\n",
       "</div>"
      ],
      "text/plain": [
       "                                       params  mean_test_score\n",
       "4  {'gamma': 'scale', 'degree': 5, 'C': 1000}         0.256216\n",
       "0   {'gamma': 'scale', 'degree': 5, 'C': 100}         0.248721\n",
       "3   {'gamma': 'scale', 'degree': 3, 'C': 100}         0.248721\n",
       "2     {'gamma': 'scale', 'degree': 4, 'C': 1}         0.229994\n",
       "1    {'gamma': 'scale', 'degree': 2, 'C': 10}         0.227474"
      ]
     },
     "execution_count": 180,
     "metadata": {},
     "output_type": "execute_result"
    }
   ],
   "source": [
    "pd.DataFrame(clf_rand.cv_results_)[['params', 'mean_test_score']].sort_values('mean_test_score', ascending=False)"
   ]
  },
  {
   "cell_type": "markdown",
   "metadata": {},
   "source": [
    "We can see that we managed to slightly improve the result for the parameters C: 1000, degree: 5, gamma: 'scale'. From what I know, the regularity factor C for the SVM model, the bigger the bigger the overfitting, which is different as it is in other models. We will now try normalization and standardization. The article shows that standardization should be worse off"
   ]
  },
  {
   "cell_type": "code",
   "execution_count": 241,
   "metadata": {},
   "outputs": [],
   "source": [
    "X_train, X_test, y_train, y_test = train_test_split(X, y, test_size = 0.2, random_state=42)\n",
    "scaler = MinMaxScaler()\n",
    "scaler.fit(X_train)\n",
    "X_train=scaler.transform(X_train)\n",
    "scaler = MinMaxScaler()\n",
    "scaler.fit(X_test)\n",
    "X_test=scaler.transform(X_test)"
   ]
  },
  {
   "cell_type": "code",
   "execution_count": 256,
   "metadata": {},
   "outputs": [
    {
     "data": {
      "text/plain": [
       "RandomizedSearchCV(cv=3, estimator=SVC(),\n",
       "                   param_distributions={'C': [0.001, 0.01, 0.1, 1, 10, 20, 100,\n",
       "                                              1000],\n",
       "                                        'degree': [2, 3, 4, 5, 6, 7, 8, 9],\n",
       "                                        'gamma': ['auto', 'scale']})"
      ]
     },
     "execution_count": 256,
     "metadata": {},
     "output_type": "execute_result"
    }
   ],
   "source": [
    "params = {\n",
    "    'degree': [2,3,4,5,6,7,8,9],\n",
    "    'C': [0.001, 0.01, 0.1, 1, 10, 20, 100, 1000],\n",
    "    'gamma': ['auto', 'scale']\n",
    "}\n",
    "\n",
    "clf_rand = RandomizedSearchCV(model_a, params, cv=3, n_iter=10)\n",
    "\n",
    "clf_rand.fit(X_train, y_train)"
   ]
  },
  {
   "cell_type": "code",
   "execution_count": 257,
   "metadata": {},
   "outputs": [
    {
     "data": {
      "text/html": [
       "<div>\n",
       "<style scoped>\n",
       "    .dataframe tbody tr th:only-of-type {\n",
       "        vertical-align: middle;\n",
       "    }\n",
       "\n",
       "    .dataframe tbody tr th {\n",
       "        vertical-align: top;\n",
       "    }\n",
       "\n",
       "    .dataframe thead th {\n",
       "        text-align: right;\n",
       "    }\n",
       "</style>\n",
       "<table border=\"1\" class=\"dataframe\">\n",
       "  <thead>\n",
       "    <tr style=\"text-align: right;\">\n",
       "      <th></th>\n",
       "      <th>params</th>\n",
       "      <th>mean_test_score</th>\n",
       "    </tr>\n",
       "  </thead>\n",
       "  <tbody>\n",
       "    <tr>\n",
       "      <th>1</th>\n",
       "      <td>{'gamma': 'scale', 'degree': 2, 'C': 10}</td>\n",
       "      <td>0.319943</td>\n",
       "    </tr>\n",
       "    <tr>\n",
       "      <th>7</th>\n",
       "      <td>{'gamma': 'auto', 'degree': 9, 'C': 20}</td>\n",
       "      <td>0.308726</td>\n",
       "    </tr>\n",
       "    <tr>\n",
       "      <th>0</th>\n",
       "      <td>{'gamma': 'scale', 'degree': 8, 'C': 20}</td>\n",
       "      <td>0.306224</td>\n",
       "    </tr>\n",
       "    <tr>\n",
       "      <th>2</th>\n",
       "      <td>{'gamma': 'auto', 'degree': 3, 'C': 0.001}</td>\n",
       "      <td>0.111247</td>\n",
       "    </tr>\n",
       "    <tr>\n",
       "      <th>5</th>\n",
       "      <td>{'gamma': 'auto', 'degree': 5, 'C': 0.1}</td>\n",
       "      <td>0.111247</td>\n",
       "    </tr>\n",
       "    <tr>\n",
       "      <th>6</th>\n",
       "      <td>{'gamma': 'auto', 'degree': 7, 'C': 0.1}</td>\n",
       "      <td>0.111247</td>\n",
       "    </tr>\n",
       "    <tr>\n",
       "      <th>8</th>\n",
       "      <td>{'gamma': 'auto', 'degree': 9, 'C': 0.01}</td>\n",
       "      <td>0.111247</td>\n",
       "    </tr>\n",
       "    <tr>\n",
       "      <th>9</th>\n",
       "      <td>{'gamma': 'auto', 'degree': 2, 'C': 0.1}</td>\n",
       "      <td>0.111247</td>\n",
       "    </tr>\n",
       "    <tr>\n",
       "      <th>3</th>\n",
       "      <td>{'gamma': 'scale', 'degree': 3, 'C': 0.001}</td>\n",
       "      <td>0.107488</td>\n",
       "    </tr>\n",
       "    <tr>\n",
       "      <th>4</th>\n",
       "      <td>{'gamma': 'scale', 'degree': 6, 'C': 0.001}</td>\n",
       "      <td>0.107488</td>\n",
       "    </tr>\n",
       "  </tbody>\n",
       "</table>\n",
       "</div>"
      ],
      "text/plain": [
       "                                        params  mean_test_score\n",
       "1     {'gamma': 'scale', 'degree': 2, 'C': 10}         0.319943\n",
       "7      {'gamma': 'auto', 'degree': 9, 'C': 20}         0.308726\n",
       "0     {'gamma': 'scale', 'degree': 8, 'C': 20}         0.306224\n",
       "2   {'gamma': 'auto', 'degree': 3, 'C': 0.001}         0.111247\n",
       "5     {'gamma': 'auto', 'degree': 5, 'C': 0.1}         0.111247\n",
       "6     {'gamma': 'auto', 'degree': 7, 'C': 0.1}         0.111247\n",
       "8    {'gamma': 'auto', 'degree': 9, 'C': 0.01}         0.111247\n",
       "9     {'gamma': 'auto', 'degree': 2, 'C': 0.1}         0.111247\n",
       "3  {'gamma': 'scale', 'degree': 3, 'C': 0.001}         0.107488\n",
       "4  {'gamma': 'scale', 'degree': 6, 'C': 0.001}         0.107488"
      ]
     },
     "execution_count": 257,
     "metadata": {},
     "output_type": "execute_result"
    }
   ],
   "source": [
    "pd.DataFrame(clf_rand.cv_results_)[['params', 'mean_test_score']].sort_values('mean_test_score', ascending=False)"
   ]
  },
  {
   "cell_type": "code",
   "execution_count": 262,
   "metadata": {},
   "outputs": [
    {
     "data": {
      "text/plain": [
       "0.335"
      ]
     },
     "execution_count": 262,
     "metadata": {},
     "output_type": "execute_result"
    }
   ],
   "source": [
    "model_a_norm = SVC(degree = 2, C = 10, gamma = 'scale')\n",
    "cross_val_score(model_a_norm, X_train, y_train, cv=3).mean()\n",
    "model_a_norm.fit(X_train, y_train)\n",
    "# we are now looking at the set test\n",
    "y_hat = model_a_norm.predict(X_test)\n",
    "accuracy_score(y_hat, y_test)"
   ]
  },
  {
   "cell_type": "markdown",
   "metadata": {},
   "source": [
    "I performed the above operation several times. Often the dataframe with parameters showed C = 1000. But intuitively from what I wrote above 1000 gives a lot of overfitting really, although on the test set it is not tragic taking a smaller C it is better. At the moment, C = 10, although a simple check shows that C = 1, with the remaining parameters, it does better, giving 0.355. In one attempt, I managed to have even 0.37, but I did not save these parameters :("
   ]
  },
  {
   "cell_type": "code",
   "execution_count": 268,
   "metadata": {},
   "outputs": [],
   "source": [
    "X_train, X_test, y_train, y_test = train_test_split(X, y, test_size = 0.2, random_state=42)\n",
    "scaler = StandardScaler()\n",
    "scaler.fit(X_train)\n",
    "X_train=scaler.transform(X_train)\n",
    "scaler = StandardScaler()\n",
    "scaler.fit(X_test)\n",
    "X_test=scaler.transform(X_test)"
   ]
  },
  {
   "cell_type": "code",
   "execution_count": 269,
   "metadata": {},
   "outputs": [
    {
     "data": {
      "text/plain": [
       "RandomizedSearchCV(cv=3, estimator=SVC(),\n",
       "                   param_distributions={'C': [0.001, 0.01, 0.1, 1, 10, 20, 100,\n",
       "                                              1000],\n",
       "                                        'degree': [2, 3, 4, 5, 6, 7, 8, 9],\n",
       "                                        'gamma': ['auto', 'scale']})"
      ]
     },
     "execution_count": 269,
     "metadata": {},
     "output_type": "execute_result"
    }
   ],
   "source": [
    "params = {\n",
    "    'degree': [2,3,4,5,6,7,8,9],\n",
    "    'C': [0.001, 0.01, 0.1, 1, 10, 20, 100, 1000],\n",
    "    'gamma': ['auto', 'scale']\n",
    "}\n",
    "\n",
    "clf_rand = RandomizedSearchCV(model_a, params, cv=3, n_iter=10)\n",
    "\n",
    "clf_rand.fit(X_train, y_train)"
   ]
  },
  {
   "cell_type": "code",
   "execution_count": 270,
   "metadata": {},
   "outputs": [
    {
     "data": {
      "text/html": [
       "<div>\n",
       "<style scoped>\n",
       "    .dataframe tbody tr th:only-of-type {\n",
       "        vertical-align: middle;\n",
       "    }\n",
       "\n",
       "    .dataframe tbody tr th {\n",
       "        vertical-align: top;\n",
       "    }\n",
       "\n",
       "    .dataframe thead th {\n",
       "        text-align: right;\n",
       "    }\n",
       "</style>\n",
       "<table border=\"1\" class=\"dataframe\">\n",
       "  <thead>\n",
       "    <tr style=\"text-align: right;\">\n",
       "      <th></th>\n",
       "      <th>params</th>\n",
       "      <th>mean_test_score</th>\n",
       "    </tr>\n",
       "  </thead>\n",
       "  <tbody>\n",
       "    <tr>\n",
       "      <th>7</th>\n",
       "      <td>{'gamma': 'scale', 'degree': 7, 'C': 20}</td>\n",
       "      <td>0.306206</td>\n",
       "    </tr>\n",
       "    <tr>\n",
       "      <th>1</th>\n",
       "      <td>{'gamma': 'scale', 'degree': 3, 'C': 100}</td>\n",
       "      <td>0.304967</td>\n",
       "    </tr>\n",
       "    <tr>\n",
       "      <th>5</th>\n",
       "      <td>{'gamma': 'auto', 'degree': 5, 'C': 20}</td>\n",
       "      <td>0.304952</td>\n",
       "    </tr>\n",
       "    <tr>\n",
       "      <th>0</th>\n",
       "      <td>{'gamma': 'auto', 'degree': 4, 'C': 100}</td>\n",
       "      <td>0.302470</td>\n",
       "    </tr>\n",
       "    <tr>\n",
       "      <th>2</th>\n",
       "      <td>{'gamma': 'scale', 'degree': 9, 'C': 1}</td>\n",
       "      <td>0.302451</td>\n",
       "    </tr>\n",
       "    <tr>\n",
       "      <th>8</th>\n",
       "      <td>{'gamma': 'scale', 'degree': 6, 'C': 1}</td>\n",
       "      <td>0.302451</td>\n",
       "    </tr>\n",
       "    <tr>\n",
       "      <th>3</th>\n",
       "      <td>{'gamma': 'scale', 'degree': 8, 'C': 0.001}</td>\n",
       "      <td>0.104982</td>\n",
       "    </tr>\n",
       "    <tr>\n",
       "      <th>4</th>\n",
       "      <td>{'gamma': 'auto', 'degree': 3, 'C': 0.001}</td>\n",
       "      <td>0.104982</td>\n",
       "    </tr>\n",
       "    <tr>\n",
       "      <th>6</th>\n",
       "      <td>{'gamma': 'auto', 'degree': 6, 'C': 0.01}</td>\n",
       "      <td>0.104982</td>\n",
       "    </tr>\n",
       "    <tr>\n",
       "      <th>9</th>\n",
       "      <td>{'gamma': 'auto', 'degree': 9, 'C': 0.01}</td>\n",
       "      <td>0.104982</td>\n",
       "    </tr>\n",
       "  </tbody>\n",
       "</table>\n",
       "</div>"
      ],
      "text/plain": [
       "                                        params  mean_test_score\n",
       "7     {'gamma': 'scale', 'degree': 7, 'C': 20}         0.306206\n",
       "1    {'gamma': 'scale', 'degree': 3, 'C': 100}         0.304967\n",
       "5      {'gamma': 'auto', 'degree': 5, 'C': 20}         0.304952\n",
       "0     {'gamma': 'auto', 'degree': 4, 'C': 100}         0.302470\n",
       "2      {'gamma': 'scale', 'degree': 9, 'C': 1}         0.302451\n",
       "8      {'gamma': 'scale', 'degree': 6, 'C': 1}         0.302451\n",
       "3  {'gamma': 'scale', 'degree': 8, 'C': 0.001}         0.104982\n",
       "4   {'gamma': 'auto', 'degree': 3, 'C': 0.001}         0.104982\n",
       "6    {'gamma': 'auto', 'degree': 6, 'C': 0.01}         0.104982\n",
       "9    {'gamma': 'auto', 'degree': 9, 'C': 0.01}         0.104982"
      ]
     },
     "execution_count": 270,
     "metadata": {},
     "output_type": "execute_result"
    }
   ],
   "source": [
    "pd.DataFrame(clf_rand.cv_results_)[['params', 'mean_test_score']].sort_values('mean_test_score', ascending=False)"
   ]
  },
  {
   "cell_type": "code",
   "execution_count": 271,
   "metadata": {},
   "outputs": [
    {
     "data": {
      "text/plain": [
       "0.325"
      ]
     },
     "execution_count": 271,
     "metadata": {},
     "output_type": "execute_result"
    }
   ],
   "source": [
    "model_a_norm = SVC(degree = 7, C = 20, gamma = 'scale')\n",
    "cross_val_score(model_a_norm, X_train, y_train, cv=3).mean()\n",
    "model_a_norm.fit(X_train, y_train)\n",
    "# we are now looking at the set test\n",
    "y_hat = model_a_norm.predict(X_test)\n",
    "accuracy_score(y_hat, y_test)"
   ]
  },
  {
   "cell_type": "markdown",
   "metadata": {},
   "source": [
    "In fact, in this case, it is hard for me to say whether standardization is worse than standardization"
   ]
  },
  {
   "cell_type": "markdown",
   "metadata": {},
   "source": [
    "# Drugi zbiór heart"
   ]
  },
  {
   "cell_type": "code",
   "execution_count": 346,
   "metadata": {},
   "outputs": [],
   "source": [
    "heart = pd.read_csv('heart.csv')\n",
    "d = {'Present': 1, 'Absent':0}\n",
    "heart['famhist'] = heart['famhist'].map(d)"
   ]
  },
  {
   "cell_type": "code",
   "execution_count": 347,
   "metadata": {},
   "outputs": [],
   "source": [
    "y = np.array(heart['chd'])\n",
    "X = heart.drop(['chd'], axis=1)"
   ]
  },
  {
   "cell_type": "code",
   "execution_count": 348,
   "metadata": {},
   "outputs": [],
   "source": [
    "'''\n",
    "the collection is quite small\n",
    "# so we will use cross_validation, the test will be 20% of the whole set\n",
    "'''\n",
    "X_train, X_test, y_train, y_test = train_test_split(X, y, test_size = 0.2, random_state=42)"
   ]
  },
  {
   "cell_type": "code",
   "execution_count": 349,
   "metadata": {},
   "outputs": [],
   "source": [
    "model_h = SVC() # our model, without parameters"
   ]
  },
  {
   "cell_type": "code",
   "execution_count": 350,
   "metadata": {},
   "outputs": [
    {
     "data": {
      "text/plain": [
       "0.6451612903225806"
      ]
     },
     "execution_count": 350,
     "metadata": {},
     "output_type": "execute_result"
    }
   ],
   "source": [
    "model_h.fit(X_train, y_train) \n",
    "# test\n",
    "y_hat = model_h.predict(X_test)\n",
    "accuracy_score(y_test, y_hat)"
   ]
  },
  {
   "cell_type": "code",
   "execution_count": 351,
   "metadata": {},
   "outputs": [
    {
     "data": {
      "text/plain": [
       "RandomizedSearchCV(cv=3, estimator=SVC(),\n",
       "                   param_distributions={'C': [0.001, 0.01, 0.1, 1, 10, 20, 100,\n",
       "                                              1000],\n",
       "                                        'degree': [2, 3, 4, 5],\n",
       "                                        'gamma': ['auto', 'scale']})"
      ]
     },
     "execution_count": 351,
     "metadata": {},
     "output_type": "execute_result"
    }
   ],
   "source": [
    "# we choose parameters\n",
    "params = {\n",
    "    'degree': [2,3,4,5],  \n",
    "    'C': [0.001, 0.01, 0.1, 1, 10, 20, 100, 1000],\n",
    "    'gamma': ['auto', 'scale']\n",
    "}\n",
    "\n",
    "clf_rand = RandomizedSearchCV(model_h, params, cv=3, n_iter=10)\n",
    "\n",
    "clf_rand.fit(X_train, y_train)"
   ]
  },
  {
   "cell_type": "code",
   "execution_count": 352,
   "metadata": {},
   "outputs": [
    {
     "data": {
      "text/html": [
       "<div>\n",
       "<style scoped>\n",
       "    .dataframe tbody tr th:only-of-type {\n",
       "        vertical-align: middle;\n",
       "    }\n",
       "\n",
       "    .dataframe tbody tr th {\n",
       "        vertical-align: top;\n",
       "    }\n",
       "\n",
       "    .dataframe thead th {\n",
       "        text-align: right;\n",
       "    }\n",
       "</style>\n",
       "<table border=\"1\" class=\"dataframe\">\n",
       "  <thead>\n",
       "    <tr style=\"text-align: right;\">\n",
       "      <th></th>\n",
       "      <th>params</th>\n",
       "      <th>mean_test_score</th>\n",
       "    </tr>\n",
       "  </thead>\n",
       "  <tbody>\n",
       "    <tr>\n",
       "      <th>0</th>\n",
       "      <td>{'gamma': 'scale', 'degree': 5, 'C': 100}</td>\n",
       "      <td>0.696477</td>\n",
       "    </tr>\n",
       "    <tr>\n",
       "      <th>1</th>\n",
       "      <td>{'gamma': 'scale', 'degree': 3, 'C': 10}</td>\n",
       "      <td>0.680217</td>\n",
       "    </tr>\n",
       "    <tr>\n",
       "      <th>4</th>\n",
       "      <td>{'gamma': 'scale', 'degree': 4, 'C': 1}</td>\n",
       "      <td>0.663957</td>\n",
       "    </tr>\n",
       "    <tr>\n",
       "      <th>6</th>\n",
       "      <td>{'gamma': 'scale', 'degree': 3, 'C': 1}</td>\n",
       "      <td>0.663957</td>\n",
       "    </tr>\n",
       "    <tr>\n",
       "      <th>2</th>\n",
       "      <td>{'gamma': 'auto', 'degree': 5, 'C': 1000}</td>\n",
       "      <td>0.658537</td>\n",
       "    </tr>\n",
       "    <tr>\n",
       "      <th>3</th>\n",
       "      <td>{'gamma': 'scale', 'degree': 2, 'C': 0.001}</td>\n",
       "      <td>0.658537</td>\n",
       "    </tr>\n",
       "    <tr>\n",
       "      <th>5</th>\n",
       "      <td>{'gamma': 'auto', 'degree': 5, 'C': 0.1}</td>\n",
       "      <td>0.658537</td>\n",
       "    </tr>\n",
       "    <tr>\n",
       "      <th>7</th>\n",
       "      <td>{'gamma': 'auto', 'degree': 4, 'C': 0.01}</td>\n",
       "      <td>0.658537</td>\n",
       "    </tr>\n",
       "    <tr>\n",
       "      <th>8</th>\n",
       "      <td>{'gamma': 'auto', 'degree': 3, 'C': 1}</td>\n",
       "      <td>0.658537</td>\n",
       "    </tr>\n",
       "    <tr>\n",
       "      <th>9</th>\n",
       "      <td>{'gamma': 'auto', 'degree': 5, 'C': 0.01}</td>\n",
       "      <td>0.658537</td>\n",
       "    </tr>\n",
       "  </tbody>\n",
       "</table>\n",
       "</div>"
      ],
      "text/plain": [
       "                                        params  mean_test_score\n",
       "0    {'gamma': 'scale', 'degree': 5, 'C': 100}         0.696477\n",
       "1     {'gamma': 'scale', 'degree': 3, 'C': 10}         0.680217\n",
       "4      {'gamma': 'scale', 'degree': 4, 'C': 1}         0.663957\n",
       "6      {'gamma': 'scale', 'degree': 3, 'C': 1}         0.663957\n",
       "2    {'gamma': 'auto', 'degree': 5, 'C': 1000}         0.658537\n",
       "3  {'gamma': 'scale', 'degree': 2, 'C': 0.001}         0.658537\n",
       "5     {'gamma': 'auto', 'degree': 5, 'C': 0.1}         0.658537\n",
       "7    {'gamma': 'auto', 'degree': 4, 'C': 0.01}         0.658537\n",
       "8       {'gamma': 'auto', 'degree': 3, 'C': 1}         0.658537\n",
       "9    {'gamma': 'auto', 'degree': 5, 'C': 0.01}         0.658537"
      ]
     },
     "execution_count": 352,
     "metadata": {},
     "output_type": "execute_result"
    }
   ],
   "source": [
    "pd.DataFrame(clf_rand.cv_results_)[['params', 'mean_test_score']].sort_values('mean_test_score', ascending=False)"
   ]
  },
  {
   "cell_type": "code",
   "execution_count": 353,
   "metadata": {},
   "outputs": [
    {
     "data": {
      "text/plain": [
       "0.6989247311827957"
      ]
     },
     "execution_count": 353,
     "metadata": {},
     "output_type": "execute_result"
    }
   ],
   "source": [
    "model_h_p = SVC(degree = 5, C = 100, gamma = 'scale')\n",
    "cross_val_score(model_h_p, X_train, y_train, cv=3).mean()\n",
    "model_h_p.fit(X_train, y_train)\n",
    "# we are now looking at the set test\n",
    "y_hat = model_h_p.predict(X_test)\n",
    "accuracy_score(y_hat, y_test)"
   ]
  },
  {
   "cell_type": "markdown",
   "metadata": {},
   "source": [
    "We can see that by tuning the model we have a better result by nearly 5%. Now we are going to normalize and standardize"
   ]
  },
  {
   "cell_type": "code",
   "execution_count": 354,
   "metadata": {},
   "outputs": [],
   "source": [
    "X_train, X_test, y_train, y_test = train_test_split(X, y, test_size = 0.2, random_state=42)\n",
    "scaler = MinMaxScaler()\n",
    "scaler.fit(X_train)\n",
    "X_train=scaler.transform(X_train)\n",
    "scaler = MinMaxScaler()\n",
    "scaler.fit(X_test)\n",
    "X_test=scaler.transform(X_test)"
   ]
  },
  {
   "cell_type": "code",
   "execution_count": 355,
   "metadata": {},
   "outputs": [
    {
     "data": {
      "text/plain": [
       "RandomizedSearchCV(cv=3, estimator=SVC(),\n",
       "                   param_distributions={'C': [0.001, 0.01, 0.1, 1, 10, 20, 100,\n",
       "                                              1000],\n",
       "                                        'degree': [2, 3, 4, 5],\n",
       "                                        'gamma': ['auto', 'scale']})"
      ]
     },
     "execution_count": 355,
     "metadata": {},
     "output_type": "execute_result"
    }
   ],
   "source": [
    "# we choose parameters\n",
    "params = {\n",
    "    'degree': [2,3,4,5],  \n",
    "    'C': [0.001, 0.01, 0.1, 1, 10, 20, 100, 1000],\n",
    "    'gamma': ['auto', 'scale']\n",
    "}\n",
    "\n",
    "clf_rand = RandomizedSearchCV(model_h, params, cv=3, n_iter=10)\n",
    "\n",
    "clf_rand.fit(X_train, y_train)"
   ]
  },
  {
   "cell_type": "code",
   "execution_count": 356,
   "metadata": {},
   "outputs": [
    {
     "data": {
      "text/html": [
       "<div>\n",
       "<style scoped>\n",
       "    .dataframe tbody tr th:only-of-type {\n",
       "        vertical-align: middle;\n",
       "    }\n",
       "\n",
       "    .dataframe tbody tr th {\n",
       "        vertical-align: top;\n",
       "    }\n",
       "\n",
       "    .dataframe thead th {\n",
       "        text-align: right;\n",
       "    }\n",
       "</style>\n",
       "<table border=\"1\" class=\"dataframe\">\n",
       "  <thead>\n",
       "    <tr style=\"text-align: right;\">\n",
       "      <th></th>\n",
       "      <th>params</th>\n",
       "      <th>mean_test_score</th>\n",
       "    </tr>\n",
       "  </thead>\n",
       "  <tbody>\n",
       "    <tr>\n",
       "      <th>5</th>\n",
       "      <td>{'gamma': 'auto', 'degree': 2, 'C': 20}</td>\n",
       "      <td>0.723577</td>\n",
       "    </tr>\n",
       "    <tr>\n",
       "      <th>7</th>\n",
       "      <td>{'gamma': 'scale', 'degree': 5, 'C': 1}</td>\n",
       "      <td>0.723577</td>\n",
       "    </tr>\n",
       "    <tr>\n",
       "      <th>9</th>\n",
       "      <td>{'gamma': 'auto', 'degree': 5, 'C': 20}</td>\n",
       "      <td>0.723577</td>\n",
       "    </tr>\n",
       "    <tr>\n",
       "      <th>2</th>\n",
       "      <td>{'gamma': 'auto', 'degree': 4, 'C': 10}</td>\n",
       "      <td>0.718157</td>\n",
       "    </tr>\n",
       "    <tr>\n",
       "      <th>0</th>\n",
       "      <td>{'gamma': 'auto', 'degree': 4, 'C': 0.001}</td>\n",
       "      <td>0.658537</td>\n",
       "    </tr>\n",
       "    <tr>\n",
       "      <th>1</th>\n",
       "      <td>{'gamma': 'auto', 'degree': 3, 'C': 0.001}</td>\n",
       "      <td>0.658537</td>\n",
       "    </tr>\n",
       "    <tr>\n",
       "      <th>4</th>\n",
       "      <td>{'gamma': 'scale', 'degree': 3, 'C': 0.1}</td>\n",
       "      <td>0.658537</td>\n",
       "    </tr>\n",
       "    <tr>\n",
       "      <th>6</th>\n",
       "      <td>{'gamma': 'scale', 'degree': 3, 'C': 0.01}</td>\n",
       "      <td>0.658537</td>\n",
       "    </tr>\n",
       "    <tr>\n",
       "      <th>8</th>\n",
       "      <td>{'gamma': 'auto', 'degree': 3, 'C': 0.1}</td>\n",
       "      <td>0.658537</td>\n",
       "    </tr>\n",
       "    <tr>\n",
       "      <th>3</th>\n",
       "      <td>{'gamma': 'scale', 'degree': 4, 'C': 1000}</td>\n",
       "      <td>0.628726</td>\n",
       "    </tr>\n",
       "  </tbody>\n",
       "</table>\n",
       "</div>"
      ],
      "text/plain": [
       "                                       params  mean_test_score\n",
       "5     {'gamma': 'auto', 'degree': 2, 'C': 20}         0.723577\n",
       "7     {'gamma': 'scale', 'degree': 5, 'C': 1}         0.723577\n",
       "9     {'gamma': 'auto', 'degree': 5, 'C': 20}         0.723577\n",
       "2     {'gamma': 'auto', 'degree': 4, 'C': 10}         0.718157\n",
       "0  {'gamma': 'auto', 'degree': 4, 'C': 0.001}         0.658537\n",
       "1  {'gamma': 'auto', 'degree': 3, 'C': 0.001}         0.658537\n",
       "4   {'gamma': 'scale', 'degree': 3, 'C': 0.1}         0.658537\n",
       "6  {'gamma': 'scale', 'degree': 3, 'C': 0.01}         0.658537\n",
       "8    {'gamma': 'auto', 'degree': 3, 'C': 0.1}         0.658537\n",
       "3  {'gamma': 'scale', 'degree': 4, 'C': 1000}         0.628726"
      ]
     },
     "execution_count": 356,
     "metadata": {},
     "output_type": "execute_result"
    }
   ],
   "source": [
    "pd.DataFrame(clf_rand.cv_results_)[['params', 'mean_test_score']].sort_values('mean_test_score', ascending=False)"
   ]
  },
  {
   "cell_type": "code",
   "execution_count": 369,
   "metadata": {},
   "outputs": [
    {
     "data": {
      "text/plain": [
       "0.7741935483870968"
      ]
     },
     "execution_count": 369,
     "metadata": {},
     "output_type": "execute_result"
    }
   ],
   "source": [
    "model_h_norm = SVC(degree = 5, C = 20, gamma = 'auto')\n",
    "cross_val_score(model_h_norm, X_train, y_train, cv=3).mean()\n",
    "model_h_norm.fit(X_train, y_train)\n",
    "# we are now looking at the set test\n",
    "y_hat = model_h_norm.predict(X_test)\n",
    "accuracy_score(y_hat, y_test)"
   ]
  },
  {
   "cell_type": "markdown",
   "metadata": {},
   "source": [
    "We see a significant improvement. Now for standardization"
   ]
  },
  {
   "cell_type": "code",
   "execution_count": 370,
   "metadata": {},
   "outputs": [],
   "source": [
    "X_train, X_test, y_train, y_test = train_test_split(X, y, test_size = 0.2, random_state=42)\n",
    "scaler = StandardScaler()\n",
    "scaler.fit(X_train)\n",
    "X_train=scaler.transform(X_train)\n",
    "scaler = StandardScaler()\n",
    "scaler.fit(X_test)\n",
    "X_test=scaler.transform(X_test)"
   ]
  },
  {
   "cell_type": "code",
   "execution_count": 371,
   "metadata": {},
   "outputs": [
    {
     "data": {
      "text/plain": [
       "RandomizedSearchCV(cv=3, estimator=SVC(),\n",
       "                   param_distributions={'C': [0.001, 0.01, 0.1, 1, 10, 20, 100,\n",
       "                                              1000],\n",
       "                                        'degree': [2, 3, 4, 5],\n",
       "                                        'gamma': ['auto', 'scale']})"
      ]
     },
     "execution_count": 371,
     "metadata": {},
     "output_type": "execute_result"
    }
   ],
   "source": [
    "# we choose parameters\n",
    "params = {\n",
    "    'degree': [2,3,4,5],  \n",
    "    'C': [0.001, 0.01, 0.1, 1, 10, 20, 100, 1000],\n",
    "    'gamma': ['auto', 'scale']\n",
    "}\n",
    "\n",
    "clf_rand = RandomizedSearchCV(model_h, params, cv=3, n_iter=10)\n",
    "\n",
    "clf_rand.fit(X_train, y_train)"
   ]
  },
  {
   "cell_type": "code",
   "execution_count": 372,
   "metadata": {},
   "outputs": [
    {
     "data": {
      "text/html": [
       "<div>\n",
       "<style scoped>\n",
       "    .dataframe tbody tr th:only-of-type {\n",
       "        vertical-align: middle;\n",
       "    }\n",
       "\n",
       "    .dataframe tbody tr th {\n",
       "        vertical-align: top;\n",
       "    }\n",
       "\n",
       "    .dataframe thead th {\n",
       "        text-align: right;\n",
       "    }\n",
       "</style>\n",
       "<table border=\"1\" class=\"dataframe\">\n",
       "  <thead>\n",
       "    <tr style=\"text-align: right;\">\n",
       "      <th></th>\n",
       "      <th>params</th>\n",
       "      <th>mean_test_score</th>\n",
       "    </tr>\n",
       "  </thead>\n",
       "  <tbody>\n",
       "    <tr>\n",
       "      <th>9</th>\n",
       "      <td>{'gamma': 'scale', 'degree': 3, 'C': 10}</td>\n",
       "      <td>0.682927</td>\n",
       "    </tr>\n",
       "    <tr>\n",
       "      <th>6</th>\n",
       "      <td>{'gamma': 'auto', 'degree': 4, 'C': 20}</td>\n",
       "      <td>0.672087</td>\n",
       "    </tr>\n",
       "    <tr>\n",
       "      <th>0</th>\n",
       "      <td>{'gamma': 'scale', 'degree': 5, 'C': 100}</td>\n",
       "      <td>0.663957</td>\n",
       "    </tr>\n",
       "    <tr>\n",
       "      <th>8</th>\n",
       "      <td>{'gamma': 'scale', 'degree': 4, 'C': 100}</td>\n",
       "      <td>0.663957</td>\n",
       "    </tr>\n",
       "    <tr>\n",
       "      <th>2</th>\n",
       "      <td>{'gamma': 'auto', 'degree': 3, 'C': 0.01}</td>\n",
       "      <td>0.658537</td>\n",
       "    </tr>\n",
       "    <tr>\n",
       "      <th>3</th>\n",
       "      <td>{'gamma': 'auto', 'degree': 2, 'C': 0.001}</td>\n",
       "      <td>0.658537</td>\n",
       "    </tr>\n",
       "    <tr>\n",
       "      <th>4</th>\n",
       "      <td>{'gamma': 'auto', 'degree': 4, 'C': 100}</td>\n",
       "      <td>0.658537</td>\n",
       "    </tr>\n",
       "    <tr>\n",
       "      <th>5</th>\n",
       "      <td>{'gamma': 'auto', 'degree': 3, 'C': 100}</td>\n",
       "      <td>0.658537</td>\n",
       "    </tr>\n",
       "    <tr>\n",
       "      <th>7</th>\n",
       "      <td>{'gamma': 'scale', 'degree': 3, 'C': 0.001}</td>\n",
       "      <td>0.658537</td>\n",
       "    </tr>\n",
       "    <tr>\n",
       "      <th>1</th>\n",
       "      <td>{'gamma': 'scale', 'degree': 3, 'C': 1000}</td>\n",
       "      <td>0.644986</td>\n",
       "    </tr>\n",
       "  </tbody>\n",
       "</table>\n",
       "</div>"
      ],
      "text/plain": [
       "                                        params  mean_test_score\n",
       "9     {'gamma': 'scale', 'degree': 3, 'C': 10}         0.682927\n",
       "6      {'gamma': 'auto', 'degree': 4, 'C': 20}         0.672087\n",
       "0    {'gamma': 'scale', 'degree': 5, 'C': 100}         0.663957\n",
       "8    {'gamma': 'scale', 'degree': 4, 'C': 100}         0.663957\n",
       "2    {'gamma': 'auto', 'degree': 3, 'C': 0.01}         0.658537\n",
       "3   {'gamma': 'auto', 'degree': 2, 'C': 0.001}         0.658537\n",
       "4     {'gamma': 'auto', 'degree': 4, 'C': 100}         0.658537\n",
       "5     {'gamma': 'auto', 'degree': 3, 'C': 100}         0.658537\n",
       "7  {'gamma': 'scale', 'degree': 3, 'C': 0.001}         0.658537\n",
       "1   {'gamma': 'scale', 'degree': 3, 'C': 1000}         0.644986"
      ]
     },
     "execution_count": 372,
     "metadata": {},
     "output_type": "execute_result"
    }
   ],
   "source": [
    "pd.DataFrame(clf_rand.cv_results_)[['params', 'mean_test_score']].sort_values('mean_test_score', ascending=False)"
   ]
  },
  {
   "cell_type": "code",
   "execution_count": 374,
   "metadata": {},
   "outputs": [
    {
     "data": {
      "text/plain": [
       "0.6881720430107527"
      ]
     },
     "execution_count": 374,
     "metadata": {},
     "output_type": "execute_result"
    }
   ],
   "source": [
    "model_h_norm = SVC(degree = 3, C = 10, gamma = 'scale')\n",
    "cross_val_score(model_h_norm, X_train, y_train, cv=3).mean()\n",
    "model_h_norm.fit(X_train, y_train)\n",
    "# we are now looking at the set test\n",
    "y_hat = model_h_norm.predict(X_test)\n",
    "accuracy_score(y_hat, y_test)"
   ]
  },
  {
   "cell_type": "markdown",
   "metadata": {},
   "source": [
    "Here, indeed, the standardizer is doing worse. The conclusion from all of this is that standardization actually helps, but you need to know which form to use"
   ]
  }
 ],
 "metadata": {
  "kernelspec": {
   "display_name": "Python 3",
   "language": "python",
   "name": "python3"
  },
  "language_info": {
   "codemirror_mode": {
    "name": "ipython",
    "version": 3
   },
   "file_extension": ".py",
   "mimetype": "text/x-python",
   "name": "python",
   "nbconvert_exporter": "python",
   "pygments_lexer": "ipython3",
   "version": "3.8.3"
  }
 },
 "nbformat": 4,
 "nbformat_minor": 4
}
